{
 "cells": [
  {
   "cell_type": "code",
   "execution_count": 1,
   "id": "d4bcf771",
   "metadata": {},
   "outputs": [
    {
     "name": "stderr",
     "output_type": "stream",
     "text": [
      "C:\\MyPrograms\\Anaconda\\envs\\tf_gpu\\lib\\site-packages\\tqdm\\auto.py:21: TqdmWarning: IProgress not found. Please update jupyter and ipywidgets. See https://ipywidgets.readthedocs.io/en/stable/user_install.html\n",
      "  from .autonotebook import tqdm as notebook_tqdm\n"
     ]
    }
   ],
   "source": [
    "import os\n",
    "import torch\n",
    "import numpy as np\n",
    "import pandas as pd\n",
    "from PIL import Image\n",
    "from tqdm import tqdm\n",
    "import timm\n",
    "from torchvision import transforms"
   ]
  },
  {
   "cell_type": "code",
   "execution_count": 2,
   "id": "492d1da9",
   "metadata": {},
   "outputs": [
    {
     "name": "stdout",
     "output_type": "stream",
     "text": [
      "cuda\n"
     ]
    }
   ],
   "source": [
    "# Device setup\n",
    "device = torch.device(\"cuda\" if torch.cuda.is_available() else \"cpu\")\n",
    "print(device)"
   ]
  },
  {
   "cell_type": "code",
   "execution_count": 3,
   "id": "4694204b",
   "metadata": {},
   "outputs": [],
   "source": [
    "# Load EfficientNet B3 without classification head\n",
    "model = timm.create_model('efficientnet_b3', pretrained=True, num_classes=0)  # Removes FC layer\n",
    "model.eval()\n",
    "model.to(device)\n",
    "\n",
    "# Preprocessing for EfficientNet B3 (as per its training stats)\n",
    "transform = transforms.Compose([\n",
    "    transforms.Resize((300, 300)),\n",
    "    transforms.ToTensor(),\n",
    "    transforms.Normalize(mean=[0.485, 0.456, 0.406],\n",
    "                         std=[0.229, 0.224, 0.225])\n",
    "])"
   ]
  },
  {
   "cell_type": "code",
   "execution_count": 4,
   "id": "b1f3a8c8",
   "metadata": {},
   "outputs": [],
   "source": [
    "def extract_features_efficientnet(dataset_dir, split):\n",
    "    mapping_path = os.path.join(dataset_dir, split, f\"{split}_mapping.csv\")\n",
    "    df = pd.read_csv(mapping_path, header=None, names=[\"filename\", \"class\"])\n",
    "\n",
    "    features = []\n",
    "    labels = []\n",
    "\n",
    "    for _, row in tqdm(df.iterrows(), total=len(df), desc=f\"EfficientNet {split}\"):\n",
    "        img_path = os.path.join(dataset_dir, split, row[\"filename\"])\n",
    "        img = Image.open(img_path).convert(\"RGB\")\n",
    "        img = transform(img).unsqueeze(0).to(device)\n",
    "\n",
    "        with torch.no_grad():\n",
    "            feat = model(img).squeeze().cpu().numpy()  # output shape: (1536,)\n",
    "        \n",
    "        features.append(feat)\n",
    "        labels.append(row[\"class\"])\n",
    "\n",
    "    # Save features and labels\n",
    "    np.save(os.path.join(dataset_dir, split, f\"{split}_features.npy\"), np.array(features))\n",
    "    np.save(os.path.join(dataset_dir, split, f\"{split}_labels.npy\"), np.array(labels))\n",
    "    print(f\"✅ Saved EfficientNet {split} features and labels.\")"
   ]
  },
  {
   "cell_type": "code",
   "execution_count": 5,
   "id": "d9dd5d35",
   "metadata": {},
   "outputs": [
    {
     "name": "stderr",
     "output_type": "stream",
     "text": [
      "EfficientNet train: 100%|██████████| 21715/21715 [22:36<00:00, 16.01it/s]\n"
     ]
    },
    {
     "name": "stdout",
     "output_type": "stream",
     "text": [
      "✅ Saved EfficientNet train features and labels.\n"
     ]
    },
    {
     "name": "stderr",
     "output_type": "stream",
     "text": [
      "EfficientNet test: 100%|██████████| 6788/6788 [06:52<00:00, 16.45it/s]\n"
     ]
    },
    {
     "name": "stdout",
     "output_type": "stream",
     "text": [
      "✅ Saved EfficientNet test features and labels.\n"
     ]
    },
    {
     "name": "stderr",
     "output_type": "stream",
     "text": [
      "EfficientNet val: 100%|██████████| 5417/5417 [05:34<00:00, 16.20it/s]"
     ]
    },
    {
     "name": "stdout",
     "output_type": "stream",
     "text": [
      "✅ Saved EfficientNet val features and labels.\n"
     ]
    },
    {
     "name": "stderr",
     "output_type": "stream",
     "text": [
      "\n"
     ]
    }
   ],
   "source": [
    "# Run for all splits\n",
    "efficientnet_dataset_dir = os.path.join(os.getcwd(), \"efficientnet_dataset\")\n",
    "for split in [\"train\", \"test\", \"val\"]:\n",
    "    extract_features_efficientnet(efficientnet_dataset_dir, split)"
   ]
  },
  {
   "cell_type": "code",
   "execution_count": null,
   "id": "0438db50",
   "metadata": {},
   "outputs": [],
   "source": []
  }
 ],
 "metadata": {
  "kernelspec": {
   "display_name": "Python(GPU)",
   "language": "python",
   "name": "tf_gpu"
  },
  "language_info": {
   "codemirror_mode": {
    "name": "ipython",
    "version": 3
   },
   "file_extension": ".py",
   "mimetype": "text/x-python",
   "name": "python",
   "nbconvert_exporter": "python",
   "pygments_lexer": "ipython3",
   "version": "3.9.18"
  }
 },
 "nbformat": 4,
 "nbformat_minor": 5
}
