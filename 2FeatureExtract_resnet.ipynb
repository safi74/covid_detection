{
 "cells": [
  {
   "cell_type": "code",
   "execution_count": 1,
   "id": "f711c8d7",
   "metadata": {},
   "outputs": [],
   "source": [
    "import os\n",
    "import torch\n",
    "import torchvision.models as models\n",
    "import torchvision.transforms as transforms\n",
    "from PIL import Image\n",
    "import pandas as pd\n",
    "import numpy as np\n",
    "from tqdm import tqdm"
   ]
  },
  {
   "cell_type": "code",
   "execution_count": 2,
   "id": "413deee1",
   "metadata": {},
   "outputs": [
    {
     "name": "stdout",
     "output_type": "stream",
     "text": [
      "cuda\n"
     ]
    }
   ],
   "source": [
    "# Device\n",
    "device = torch.device(\"cuda\" if torch.cuda.is_available() else \"cpu\")\n",
    "print(device)"
   ]
  },
  {
   "cell_type": "code",
   "execution_count": 3,
   "id": "52642c15",
   "metadata": {},
   "outputs": [
    {
     "name": "stderr",
     "output_type": "stream",
     "text": [
      "C:\\MyPrograms\\Anaconda\\envs\\tf_gpu\\lib\\site-packages\\torchvision\\models\\_utils.py:208: UserWarning: The parameter 'pretrained' is deprecated since 0.13 and may be removed in the future, please use 'weights' instead.\n",
      "  warnings.warn(\n",
      "C:\\MyPrograms\\Anaconda\\envs\\tf_gpu\\lib\\site-packages\\torchvision\\models\\_utils.py:223: UserWarning: Arguments other than a weight enum or `None` for 'weights' are deprecated since 0.13 and may be removed in the future. The current behavior is equivalent to passing `weights=ResNet50_Weights.IMAGENET1K_V1`. You can also use `weights=ResNet50_Weights.DEFAULT` to get the most up-to-date weights.\n",
      "  warnings.warn(msg)\n",
      "Downloading: \"https://download.pytorch.org/models/resnet50-0676ba61.pth\" to C:\\Users\\Safi/.cache\\torch\\hub\\checkpoints\\resnet50-0676ba61.pth\n",
      "100%|██████████| 97.8M/97.8M [00:10<00:00, 10.1MB/s]\n"
     ]
    }
   ],
   "source": [
    "# Model: ResNet50 without the final classifier\n",
    "resnet = models.resnet50(pretrained=True)\n",
    "resnet = torch.nn.Sequential(*(list(resnet.children())[:-1]))  # remove last FC\n",
    "resnet.to(device)\n",
    "resnet.eval()\n",
    "\n",
    "# Image transformation for ResNet\n",
    "transform = transforms.Compose([\n",
    "    transforms.Resize((224, 224)),\n",
    "    transforms.ToTensor(),\n",
    "    transforms.Normalize(mean=[0.485, 0.456, 0.406],  # Imagenet stats\n",
    "                         std=[0.229, 0.224, 0.225])\n",
    "])"
   ]
  },
  {
   "cell_type": "code",
   "execution_count": 4,
   "id": "a32a9eda",
   "metadata": {},
   "outputs": [],
   "source": [
    "def extract_features(dataset_dir, split):\n",
    "    mapping_path = os.path.join(dataset_dir, split, f\"{split}_mapping.csv\")\n",
    "    df = pd.read_csv(mapping_path, header=None, names=[\"filename\", \"class\"])\n",
    "\n",
    "    features = []\n",
    "    labels = []\n",
    "\n",
    "    for _, row in tqdm(df.iterrows(), total=len(df), desc=f\"{split} feature extraction\"):\n",
    "        img_path = os.path.join(dataset_dir, split, row[\"filename\"])\n",
    "        img = Image.open(img_path).convert(\"RGB\")\n",
    "        img = transform(img).unsqueeze(0).to(device)\n",
    "\n",
    "        with torch.no_grad():\n",
    "            feat = resnet(img).squeeze().cpu().numpy()  # shape: (2048,)\n",
    "        \n",
    "        features.append(feat)\n",
    "        labels.append(row[\"class\"])\n",
    "\n",
    "    # Save features and labels\n",
    "    np.save(os.path.join(dataset_dir, split, f\"{split}_features.npy\"), np.array(features))\n",
    "    np.save(os.path.join(dataset_dir, split, f\"{split}_labels.npy\"), np.array(labels))\n",
    "    print(f\"✅ Saved {split} features and labels.\")"
   ]
  },
  {
   "cell_type": "code",
   "execution_count": 5,
   "id": "ca7a9304",
   "metadata": {},
   "outputs": [
    {
     "name": "stderr",
     "output_type": "stream",
     "text": [
      "train feature extraction: 100%|██████████| 21715/21715 [13:59<00:00, 25.86it/s]\n"
     ]
    },
    {
     "name": "stdout",
     "output_type": "stream",
     "text": [
      "✅ Saved train features and labels.\n"
     ]
    },
    {
     "name": "stderr",
     "output_type": "stream",
     "text": [
      "test feature extraction: 100%|██████████| 6788/6788 [04:30<00:00, 25.13it/s]\n"
     ]
    },
    {
     "name": "stdout",
     "output_type": "stream",
     "text": [
      "✅ Saved test features and labels.\n"
     ]
    },
    {
     "name": "stderr",
     "output_type": "stream",
     "text": [
      "val feature extraction: 100%|██████████| 5417/5417 [03:24<00:00, 26.51it/s]\n"
     ]
    },
    {
     "name": "stdout",
     "output_type": "stream",
     "text": [
      "✅ Saved val features and labels.\n"
     ]
    }
   ],
   "source": [
    "# Extract for all splits\n",
    "dataset_path = os.path.join(os.getcwd(), \"resnet_dataset\")\n",
    "for split in [\"train\", \"test\", \"val\"]:\n",
    "    extract_features(dataset_path, split)"
   ]
  },
  {
   "cell_type": "code",
   "execution_count": null,
   "id": "54a87e1a",
   "metadata": {},
   "outputs": [],
   "source": []
  }
 ],
 "metadata": {
  "kernelspec": {
   "display_name": "Python(GPU)",
   "language": "python",
   "name": "tf_gpu"
  },
  "language_info": {
   "codemirror_mode": {
    "name": "ipython",
    "version": 3
   },
   "file_extension": ".py",
   "mimetype": "text/x-python",
   "name": "python",
   "nbconvert_exporter": "python",
   "pygments_lexer": "ipython3",
   "version": "3.9.18"
  }
 },
 "nbformat": 4,
 "nbformat_minor": 5
}
